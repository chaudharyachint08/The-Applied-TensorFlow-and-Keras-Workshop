{
 "cells": [
  {
   "cell_type": "markdown",
   "metadata": {},
   "source": [
    "# Activity 2.01: Assembling a Deep Learning System\n",
    "In this activity, we will train the first version of our LSTM model using Bitcoin daily closing prices. These prices will be organized using the weeks of both 2016 and 2017. We do that because we are interested in predicting the prices of a week's worth of trading.\n",
    "\n",
    "Let's go ahead and import our data."
   ]
  },
  {
   "cell_type": "code",
   "execution_count": 22,
   "metadata": {},
   "outputs": [],
   "source": [
    "import numpy as np\n",
    "import pandas as pd\n",
    "import matplotlib.pyplot as plt\n",
    "%matplotlib inline"
   ]
  },
  {
   "cell_type": "code",
   "execution_count": 23,
   "metadata": {},
   "outputs": [],
   "source": [
    "from tensorflow.keras.models import load_model"
   ]
  },
  {
   "cell_type": "code",
   "execution_count": 24,
   "metadata": {},
   "outputs": [],
   "source": [
    "plt.style.use('seaborn-white')"
   ]
  },
  {
   "cell_type": "markdown",
   "metadata": {},
   "source": [
    "### Shaping Data\n",
    "Neural networks typically work with vectors and tensors, both mathematical objects that organize data in a number of dimensions. "
   ]
  },
  {
   "cell_type": "code",
   "execution_count": 25,
   "metadata": {},
   "outputs": [],
   "source": [
    "train = pd.read_csv('data/train_dataset.csv')"
   ]
  },
  {
   "cell_type": "code",
   "execution_count": 26,
   "metadata": {},
   "outputs": [
    {
     "data": {
      "text/html": [
       "<div>\n",
       "<style scoped>\n",
       "    .dataframe tbody tr th:only-of-type {\n",
       "        vertical-align: middle;\n",
       "    }\n",
       "\n",
       "    .dataframe tbody tr th {\n",
       "        vertical-align: top;\n",
       "    }\n",
       "\n",
       "    .dataframe thead th {\n",
       "        text-align: right;\n",
       "    }\n",
       "</style>\n",
       "<table border=\"1\" class=\"dataframe\">\n",
       "  <thead>\n",
       "    <tr style=\"text-align: right;\">\n",
       "      <th></th>\n",
       "      <th>date</th>\n",
       "      <th>iso_week</th>\n",
       "      <th>close</th>\n",
       "      <th>volume</th>\n",
       "      <th>close_point_relative_normalization</th>\n",
       "      <th>volume_point_relative_normalization</th>\n",
       "    </tr>\n",
       "  </thead>\n",
       "  <tbody>\n",
       "    <tr>\n",
       "      <th>0</th>\n",
       "      <td>2016-01-04</td>\n",
       "      <td>2016-1</td>\n",
       "      <td>433.091003</td>\n",
       "      <td>38477500</td>\n",
       "      <td>0.000000</td>\n",
       "      <td>0.000000</td>\n",
       "    </tr>\n",
       "    <tr>\n",
       "      <th>1</th>\n",
       "      <td>2016-01-05</td>\n",
       "      <td>2016-1</td>\n",
       "      <td>431.959991</td>\n",
       "      <td>34522600</td>\n",
       "      <td>-0.002611</td>\n",
       "      <td>-0.102785</td>\n",
       "    </tr>\n",
       "    <tr>\n",
       "      <th>2</th>\n",
       "      <td>2016-01-06</td>\n",
       "      <td>2016-1</td>\n",
       "      <td>429.105011</td>\n",
       "      <td>34042500</td>\n",
       "      <td>-0.009204</td>\n",
       "      <td>-0.115262</td>\n",
       "    </tr>\n",
       "    <tr>\n",
       "      <th>3</th>\n",
       "      <td>2016-01-07</td>\n",
       "      <td>2016-1</td>\n",
       "      <td>458.048004</td>\n",
       "      <td>87562200</td>\n",
       "      <td>0.057625</td>\n",
       "      <td>1.275673</td>\n",
       "    </tr>\n",
       "    <tr>\n",
       "      <th>4</th>\n",
       "      <td>2016-01-08</td>\n",
       "      <td>2016-1</td>\n",
       "      <td>453.230011</td>\n",
       "      <td>56993000</td>\n",
       "      <td>0.046501</td>\n",
       "      <td>0.481203</td>\n",
       "    </tr>\n",
       "  </tbody>\n",
       "</table>\n",
       "</div>"
      ],
      "text/plain": [
       "         date iso_week       close    volume  \\\n",
       "0  2016-01-04   2016-1  433.091003  38477500   \n",
       "1  2016-01-05   2016-1  431.959991  34522600   \n",
       "2  2016-01-06   2016-1  429.105011  34042500   \n",
       "3  2016-01-07   2016-1  458.048004  87562200   \n",
       "4  2016-01-08   2016-1  453.230011  56993000   \n",
       "\n",
       "   close_point_relative_normalization  volume_point_relative_normalization  \n",
       "0                            0.000000                             0.000000  \n",
       "1                           -0.002611                            -0.102785  \n",
       "2                           -0.009204                            -0.115262  \n",
       "3                            0.057625                             1.275673  \n",
       "4                            0.046501                             0.481203  "
      ]
     },
     "execution_count": 26,
     "metadata": {},
     "output_type": "execute_result"
    }
   ],
   "source": [
    "train.head()"
   ]
  },
  {
   "cell_type": "markdown",
   "metadata": {},
   "source": [
    "LSTM networks require vectors with three dimensions. These dimensions are:\n",
    "    \n",
    "* **Period length**: The period length, i.e. how many observations is there on a period.\n",
    "* **Number of periods**: How many periods are available in the dataset.\n",
    "* **Number of features**: Number of features available in the dataset.\n",
    "\n",
    "We will create weekly groups then rearrange the resulting array to match those dimensions."
   ]
  },
  {
   "cell_type": "code",
   "execution_count": 27,
   "metadata": {},
   "outputs": [],
   "source": [
    "def create_groups(data, group_size=7):\n",
    "    \"\"\"\n",
    "    Creates distinct groups from a given continuous series.\n",
    "    \n",
    "    Parameters\n",
    "    ----------\n",
    "    data: np.array\n",
    "        Series of continious observations.\n",
    "\n",
    "    group_size: int, default 7\n",
    "        Determines how large the groups are. That is,\n",
    "        how many observations each group contains.\n",
    "    \n",
    "    Returns\n",
    "    -------\n",
    "    A Numpy array object. \n",
    "    \"\"\"\n",
    "    samples = list()\n",
    "    for i in range(0, len(data), group_size):\n",
    "        sample = list(data[i:i + group_size])\n",
    "        if len(sample) == group_size:\n",
    "            samples.append(np.array(sample).reshape(1, group_size).tolist())\n",
    "    return np.array(samples)"
   ]
  },
  {
   "cell_type": "code",
   "execution_count": 28,
   "metadata": {},
   "outputs": [],
   "source": [
    "data = create_groups(train['close_point_relative_normalization'].values, 7)"
   ]
  },
  {
   "cell_type": "code",
   "execution_count": 29,
   "metadata": {},
   "outputs": [
    {
     "data": {
      "text/plain": [
       "187"
      ]
     },
     "execution_count": 29,
     "metadata": {},
     "output_type": "execute_result"
    }
   ],
   "source": [
    "len(data)"
   ]
  },
  {
   "cell_type": "code",
   "execution_count": 30,
   "metadata": {},
   "outputs": [],
   "source": [
    "X_train = data[:-1,:].reshape(1, 186, 7)\n",
    "Y_validation = data[-1].reshape(1, 7)"
   ]
  },
  {
   "cell_type": "markdown",
   "metadata": {},
   "source": [
    "### Load Our Model\n",
    "Let's start by loading our previously trained model. "
   ]
  },
  {
   "cell_type": "code",
   "execution_count": 31,
   "metadata": {},
   "outputs": [],
   "source": [
    "model = load_model('bitcoin_lstm_v0.h5')"
   ]
  },
  {
   "cell_type": "markdown",
   "metadata": {},
   "source": [
    "### Make Predictions\n"
   ]
  },
  {
   "cell_type": "code",
   "execution_count": 32,
   "metadata": {
    "scrolled": true
   },
   "outputs": [
    {
     "name": "stdout",
     "output_type": "stream",
     "text": [
      "Train on 1 samples\n",
      "Epoch 1/100\n",
      "1/1 [==============================] - 1s 604ms/sample - loss: 0.0096\n",
      "Epoch 2/100\n",
      "1/1 [==============================] - 0s 76ms/sample - loss: 0.0085\n",
      "Epoch 3/100\n",
      "1/1 [==============================] - 0s 91ms/sample - loss: 0.0078\n",
      "Epoch 4/100\n",
      "1/1 [==============================] - 0s 81ms/sample - loss: 0.0072\n",
      "Epoch 5/100\n",
      "1/1 [==============================] - 0s 85ms/sample - loss: 0.0067\n",
      "Epoch 6/100\n",
      "1/1 [==============================] - 0s 81ms/sample - loss: 0.0062\n",
      "Epoch 7/100\n",
      "1/1 [==============================] - 0s 91ms/sample - loss: 0.0058\n",
      "Epoch 8/100\n",
      "1/1 [==============================] - 0s 78ms/sample - loss: 0.0054\n",
      "Epoch 9/100\n",
      "1/1 [==============================] - 0s 100ms/sample - loss: 0.0051\n",
      "Epoch 10/100\n",
      "1/1 [==============================] - 0s 82ms/sample - loss: 0.0047\n",
      "Epoch 11/100\n",
      "1/1 [==============================] - 0s 85ms/sample - loss: 0.0044\n",
      "Epoch 12/100\n",
      "1/1 [==============================] - 0s 72ms/sample - loss: 0.0041\n",
      "Epoch 13/100\n",
      "1/1 [==============================] - 0s 81ms/sample - loss: 0.0038\n",
      "Epoch 14/100\n",
      "1/1 [==============================] - 0s 92ms/sample - loss: 0.0036\n",
      "Epoch 15/100\n",
      "1/1 [==============================] - 0s 77ms/sample - loss: 0.0033\n",
      "Epoch 16/100\n",
      "1/1 [==============================] - 0s 80ms/sample - loss: 0.0031\n",
      "Epoch 17/100\n",
      "1/1 [==============================] - 0s 95ms/sample - loss: 0.0028\n",
      "Epoch 18/100\n",
      "1/1 [==============================] - 0s 99ms/sample - loss: 0.0026\n",
      "Epoch 19/100\n",
      "1/1 [==============================] - 0s 88ms/sample - loss: 0.0024\n",
      "Epoch 20/100\n",
      "1/1 [==============================] - 0s 77ms/sample - loss: 0.0022\n",
      "Epoch 21/100\n",
      "1/1 [==============================] - 0s 81ms/sample - loss: 0.0020\n",
      "Epoch 22/100\n",
      "1/1 [==============================] - 0s 95ms/sample - loss: 0.0018\n",
      "Epoch 23/100\n",
      "1/1 [==============================] - 0s 81ms/sample - loss: 0.0016\n",
      "Epoch 24/100\n",
      "1/1 [==============================] - 0s 80ms/sample - loss: 0.0015\n",
      "Epoch 25/100\n",
      "1/1 [==============================] - 0s 82ms/sample - loss: 0.0013\n",
      "Epoch 26/100\n",
      "1/1 [==============================] - 0s 77ms/sample - loss: 0.0012\n",
      "Epoch 27/100\n",
      "1/1 [==============================] - 0s 92ms/sample - loss: 0.0011\n",
      "Epoch 28/100\n",
      "1/1 [==============================] - 0s 88ms/sample - loss: 9.4280e-04\n",
      "Epoch 29/100\n",
      "1/1 [==============================] - 0s 99ms/sample - loss: 8.3486e-04\n",
      "Epoch 30/100\n",
      "1/1 [==============================] - 0s 83ms/sample - loss: 7.3655e-04\n",
      "Epoch 31/100\n",
      "1/1 [==============================] - 0s 89ms/sample - loss: 6.4743e-04\n",
      "Epoch 32/100\n",
      "1/1 [==============================] - 0s 76ms/sample - loss: 5.6697e-04\n",
      "Epoch 33/100\n",
      "1/1 [==============================] - 0s 78ms/sample - loss: 4.9460e-04\n",
      "Epoch 34/100\n",
      "1/1 [==============================] - 0s 93ms/sample - loss: 4.2973e-04\n",
      "Epoch 35/100\n",
      "1/1 [==============================] - 0s 106ms/sample - loss: 3.7180e-04\n",
      "Epoch 36/100\n",
      "1/1 [==============================] - 0s 78ms/sample - loss: 3.2024e-04\n",
      "Epoch 37/100\n",
      "1/1 [==============================] - 0s 77ms/sample - loss: 2.7452e-04\n",
      "Epoch 38/100\n",
      "1/1 [==============================] - 0s 79ms/sample - loss: 2.3416e-04\n",
      "Epoch 39/100\n",
      "1/1 [==============================] - 0s 76ms/sample - loss: 1.9865e-04\n",
      "Epoch 40/100\n",
      "1/1 [==============================] - 0s 92ms/sample - loss: 1.6756e-04\n",
      "Epoch 41/100\n",
      "1/1 [==============================] - 0s 79ms/sample - loss: 1.4046e-04\n",
      "Epoch 42/100\n",
      "1/1 [==============================] - 0s 79ms/sample - loss: 1.1694e-04\n",
      "Epoch 43/100\n",
      "1/1 [==============================] - 0s 77ms/sample - loss: 9.6645e-05\n",
      "Epoch 44/100\n",
      "1/1 [==============================] - 0s 85ms/sample - loss: 7.9233e-05\n",
      "Epoch 45/100\n",
      "1/1 [==============================] - 0s 86ms/sample - loss: 6.4393e-05\n",
      "Epoch 46/100\n",
      "1/1 [==============================] - 0s 71ms/sample - loss: 5.1836e-05\n",
      "Epoch 47/100\n",
      "1/1 [==============================] - 0s 83ms/sample - loss: 4.1299e-05\n",
      "Epoch 48/100\n",
      "1/1 [==============================] - 0s 99ms/sample - loss: 3.2554e-05\n",
      "Epoch 49/100\n",
      "1/1 [==============================] - 0s 88ms/sample - loss: 2.5484e-05\n",
      "Epoch 50/100\n",
      "1/1 [==============================] - 0s 84ms/sample - loss: 1.9875e-05\n",
      "Epoch 51/100\n",
      "1/1 [==============================] - 0s 79ms/sample - loss: 1.5192e-05\n",
      "Epoch 52/100\n",
      "1/1 [==============================] - 0s 82ms/sample - loss: 1.1347e-05\n",
      "Epoch 53/100\n",
      "1/1 [==============================] - 0s 95ms/sample - loss: 8.4432e-06\n",
      "Epoch 54/100\n",
      "1/1 [==============================] - 0s 96ms/sample - loss: 6.2937e-06\n",
      "Epoch 55/100\n",
      "1/1 [==============================] - 0s 83ms/sample - loss: 4.7536e-06\n",
      "Epoch 56/100\n",
      "1/1 [==============================] - 0s 93ms/sample - loss: 3.5465e-06\n",
      "Epoch 57/100\n",
      "1/1 [==============================] - 0s 75ms/sample - loss: 2.6550e-06\n",
      "Epoch 58/100\n",
      "1/1 [==============================] - 0s 84ms/sample - loss: 1.9688e-06\n",
      "Epoch 59/100\n",
      "1/1 [==============================] - 0s 63ms/sample - loss: 1.4932e-06\n",
      "Epoch 60/100\n",
      "1/1 [==============================] - 0s 90ms/sample - loss: 1.1607e-06\n",
      "Epoch 61/100\n",
      "1/1 [==============================] - 0s 79ms/sample - loss: 9.5651e-07\n",
      "Epoch 62/100\n",
      "1/1 [==============================] - 0s 96ms/sample - loss: 8.4304e-07\n",
      "Epoch 63/100\n",
      "1/1 [==============================] - 0s 80ms/sample - loss: 8.0868e-07\n",
      "Epoch 64/100\n",
      "1/1 [==============================] - 0s 99ms/sample - loss: 8.3543e-07\n",
      "Epoch 65/100\n",
      "1/1 [==============================] - 0s 68ms/sample - loss: 9.1451e-07\n",
      "Epoch 66/100\n",
      "1/1 [==============================] - 0s 93ms/sample - loss: 1.0398e-06\n",
      "Epoch 67/100\n",
      "1/1 [==============================] - 0s 80ms/sample - loss: 1.1940e-06\n",
      "Epoch 68/100\n",
      "1/1 [==============================] - 0s 77ms/sample - loss: 1.3797e-06\n",
      "Epoch 69/100\n",
      "1/1 [==============================] - 0s 79ms/sample - loss: 1.5608e-06\n",
      "Epoch 70/100\n",
      "1/1 [==============================] - 0s 93ms/sample - loss: 1.7608e-06\n",
      "Epoch 71/100\n",
      "1/1 [==============================] - 0s 93ms/sample - loss: 1.9224e-06\n",
      "Epoch 72/100\n",
      "1/1 [==============================] - 0s 94ms/sample - loss: 2.1074e-06\n",
      "Epoch 73/100\n",
      "1/1 [==============================] - 0s 82ms/sample - loss: 2.2307e-06\n",
      "Epoch 74/100\n",
      "1/1 [==============================] - 0s 93ms/sample - loss: 2.3955e-06\n",
      "Epoch 75/100\n",
      "1/1 [==============================] - 0s 87ms/sample - loss: 2.4819e-06\n",
      "Epoch 76/100\n",
      "1/1 [==============================] - 0s 91ms/sample - loss: 2.6301e-06\n",
      "Epoch 77/100\n",
      "1/1 [==============================] - 0s 89ms/sample - loss: 2.6873e-06\n",
      "Epoch 78/100\n",
      "1/1 [==============================] - 0s 94ms/sample - loss: 2.8241e-06\n",
      "Epoch 79/100\n",
      "1/1 [==============================] - 0s 91ms/sample - loss: 2.8614e-06\n",
      "Epoch 80/100\n",
      "1/1 [==============================] - 0s 82ms/sample - loss: 2.9929e-06\n",
      "Epoch 81/100\n",
      "1/1 [==============================] - 0s 95ms/sample - loss: 3.0196e-06\n",
      "Epoch 82/100\n",
      "1/1 [==============================] - 0s 82ms/sample - loss: 3.1505e-06\n",
      "Epoch 83/100\n",
      "1/1 [==============================] - 0s 96ms/sample - loss: 3.1720e-06\n",
      "Epoch 84/100\n",
      "1/1 [==============================] - 0s 88ms/sample - loss: 3.3032e-06\n",
      "Epoch 85/100\n",
      "1/1 [==============================] - 0s 94ms/sample - loss: 3.3197e-06\n",
      "Epoch 86/100\n",
      "1/1 [==============================] - 0s 97ms/sample - loss: 3.4477e-06\n",
      "Epoch 87/100\n",
      "1/1 [==============================] - 0s 74ms/sample - loss: 3.4552e-06\n",
      "Epoch 88/100\n",
      "1/1 [==============================] - 0s 92ms/sample - loss: 3.5741e-06\n",
      "Epoch 89/100\n",
      "1/1 [==============================] - 0s 94ms/sample - loss: 3.5675e-06\n",
      "Epoch 90/100\n",
      "1/1 [==============================] - 0s 76ms/sample - loss: 3.6739e-06\n",
      "Epoch 91/100\n",
      "1/1 [==============================] - 0s 82ms/sample - loss: 3.6530e-06\n",
      "Epoch 92/100\n",
      "1/1 [==============================] - 0s 77ms/sample - loss: 3.7558e-06\n",
      "Epoch 93/100\n",
      "1/1 [==============================] - 0s 95ms/sample - loss: 3.7362e-06\n",
      "Epoch 94/100\n",
      "1/1 [==============================] - 0s 80ms/sample - loss: 3.8888e-06\n",
      "Epoch 95/100\n",
      "1/1 [==============================] - 0s 78ms/sample - loss: 3.9687e-06\n",
      "Epoch 96/100\n",
      "1/1 [==============================] - 0s 74ms/sample - loss: 4.4600e-06\n",
      "Epoch 97/100\n",
      "1/1 [==============================] - 0s 80ms/sample - loss: 5.0967e-06\n"
     ]
    },
    {
     "name": "stdout",
     "output_type": "stream",
     "text": [
      "Epoch 98/100\n",
      "1/1 [==============================] - 0s 84ms/sample - loss: 6.5274e-06\n",
      "Epoch 99/100\n",
      "1/1 [==============================] - 0s 90ms/sample - loss: 6.7354e-06\n",
      "Epoch 100/100\n",
      "1/1 [==============================] - 0s 77ms/sample - loss: 6.5776e-06\n",
      "CPU times: user 17.7 s, sys: 830 ms, total: 18.5 s\n",
      "Wall time: 9.18 s\n"
     ]
    }
   ],
   "source": [
    "%%time\n",
    "history = model.fit(\n",
    "    x=X_train, y=Y_validation,\n",
    "     epochs=100)"
   ]
  },
  {
   "cell_type": "code",
   "execution_count": 33,
   "metadata": {},
   "outputs": [],
   "source": [
    "model.save('bitcoin_lstm_v0_trained.h5')"
   ]
  },
  {
   "cell_type": "code",
   "execution_count": 34,
   "metadata": {},
   "outputs": [
    {
     "data": {
      "text/plain": [
       "<matplotlib.axes._subplots.AxesSubplot at 0x7efccc180e10>"
      ]
     },
     "execution_count": 34,
     "metadata": {},
     "output_type": "execute_result"
    },
    {
     "data": {
      "image/png": "[encoded data removed]",
      "text/plain": [
       "<Figure size 1008x288 with 1 Axes>"
      ]
     },
     "metadata": {},
     "output_type": "display_data"
    }
   ],
   "source": [
    "pd.Series(history.history['loss']).plot(linewidth=2, figsize=(14, 4), color='#d35400')"
   ]
  },
  {
   "cell_type": "code",
   "execution_count": 35,
   "metadata": {},
   "outputs": [],
   "source": [
    "def denormalize(series, last_value):\n",
    "    result = last_value * (series + 1)\n",
    "    return result"
   ]
  },
  {
   "cell_type": "code",
   "execution_count": 41,
   "metadata": {},
   "outputs": [],
   "source": [
    "predictions = model.predict(x=X_train)[0]"
   ]
  },
  {
   "cell_type": "code",
   "execution_count": 42,
   "metadata": {},
   "outputs": [],
   "source": [
    "last_weeks_value = train[train['date'] == train['date'].max()]['close'].values[0]\n",
    "denormalized_prediction = denormalize(predictions, last_weeks_value)"
   ]
  },
  {
   "cell_type": "code",
   "execution_count": 43,
   "metadata": {},
   "outputs": [
    {
     "data": {
      "text/plain": [
       "<matplotlib.axes._subplots.AxesSubplot at 0x7efccc146510>"
      ]
     },
     "execution_count": 43,
     "metadata": {},
     "output_type": "execute_result"
    },
    {
     "data": {
      "image/png": "[encoded data removed]",
      "text/plain": [
       "<Figure size 432x288 with 1 Axes>"
      ]
     },
     "metadata": {},
     "output_type": "display_data"
    }
   ],
   "source": [
    "pd.DataFrame(denormalized_prediction).plot(linewidth=2, figsize=(6, 4), color='#d35400', grid=True)"
   ]
  },
  {
   "cell_type": "code",
   "execution_count": 44,
   "metadata": {},
   "outputs": [
    {
     "data": {
      "text/plain": [
       "<matplotlib.lines.Line2D at 0x7efccc50bdd0>"
      ]
     },
     "execution_count": 44,
     "metadata": {},
     "output_type": "execute_result"
    },
    {
     "data": {
      "image/png": "[encoded data removed]",
      "text/plain": [
       "<Figure size 1008x288 with 1 Axes>"
      ]
     },
     "metadata": {},
     "output_type": "display_data"
    }
   ],
   "source": [
    "full_series = list(train['close'].values) + list(denormalized_prediction)\n",
    "pd.DataFrame(full_series[-7*8:]).plot(linewidth=2, figsize=(14, 4), color='#d35400', grid=True)\n",
    "plt.axvline(len(full_series[-7*8:]) - 7)"
   ]
  },
  {
   "cell_type": "markdown",
   "metadata": {},
   "source": [
    "### Summary\n",
    "In this activity, we have assembled a complete deep learning system: from data to prediction. The model created in this activity need a number of improvements before it can be considered useful. However, it serves as a great starting point from which we will continuously improve."
   ]
  }
 ],
 "metadata": {
  "kernelspec": {
   "display_name": "Python 3",
   "language": "python",
   "name": "python3"
  },
  "language_info": {
   "codemirror_mode": {
    "name": "ipython",
    "version": 3
   },
   "file_extension": ".py",
   "mimetype": "text/x-python",
   "name": "python",
   "nbconvert_exporter": "python",
   "pygments_lexer": "ipython3",
   "version": "3.7.6"
  }
 },
 "nbformat": 4,
 "nbformat_minor": 2
}
